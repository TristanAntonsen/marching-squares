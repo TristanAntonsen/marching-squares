{
 "cells": [
  {
   "cell_type": "markdown",
   "metadata": {},
   "source": [
    "## Sandbox for marching squares"
   ]
  },
  {
   "cell_type": "code",
   "execution_count": 1,
   "metadata": {},
   "outputs": [],
   "source": [
    "import numpy as np\n",
    "import matplotlib.pyplot as plt\n",
    "from PIL import Image, ImageDraw\n",
    "from marching_squares import UnitCell, Lattice"
   ]
  },
  {
   "cell_type": "code",
   "execution_count": 2,
   "metadata": {},
   "outputs": [],
   "source": [
    "def center_ellipse(x,y,r,c):\n",
    "\n",
    "    draw.ellipse([x - r, y - r, x + r, y + r],fill=c)\n",
    "\n",
    "def center_rectangle(x,y,l,w,c):\n",
    "    l = l/2\n",
    "    w = w/2\n",
    "    draw.rectangle([x - w, y - l, x + w, y + l],fill=c)"
   ]
  },
  {
   "cell_type": "code",
   "execution_count": 3,
   "metadata": {},
   "outputs": [
    {
     "name": "stdout",
     "output_type": "stream",
     "text": [
      "[[0 2]\n",
      " [1 3]]\n",
      "[[  0 400]\n",
      " [200 600]]\n",
      "[[  0 600]\n",
      " [200 800]]\n",
      "[[   0  800]\n",
      " [ 200 1000]]\n",
      "[[200 400]\n",
      " [400 600]]\n",
      "[[200 600]\n",
      " [400 800]]\n",
      "[[ 200  800]\n",
      " [ 400 1000]]\n",
      "[[400 400]\n",
      " [600 600]]\n",
      "[[400 600]\n",
      " [600 800]]\n",
      "[[ 400  800]\n",
      " [ 600 1000]]\n"
     ]
    }
   ],
   "source": [
    "image_resolution = 1080\n",
    "\n",
    "img = Image.new('RGB', (image_resolution, image_resolution))\n",
    "draw = ImageDraw.Draw(img)\n",
    "\n",
    "\n",
    "\n",
    "def draw_cell(unit_cell, coords):\n",
    "    for beam in unit_cell.beams:\n",
    "        x1 = coords[beam[0]][0]\n",
    "        y1 = coords[beam[0]][1]\n",
    "        x2 = coords[beam[1]][0]\n",
    "        y2 = coords[beam[1]][1]\n",
    "        draw.line([x1, y1, x2, y2], fill=\"white\",width=10)\n",
    "\n",
    "unit_cell = UnitCell(\"BC\")\n",
    "scale = 200\n",
    "unit_cell.x_scale = scale\n",
    "unit_cell.y_scale = scale\n",
    "lattice = Lattice(unit_cell, 3, 3)\n",
    "i = 0\n",
    "print(unit_cell.nodes)\n",
    "for coords in lattice.return_all_cell_coords():\n",
    "    print(coords)\n",
    "    draw_cell(unit_cell, coords)\n",
    "img.save('pixels.png')"
   ]
  }
 ],
 "metadata": {
  "kernelspec": {
   "display_name": "Python 3.9.6 64-bit ('python-project')",
   "language": "python",
   "name": "python3"
  },
  "language_info": {
   "codemirror_mode": {
    "name": "ipython",
    "version": 3
   },
   "file_extension": ".py",
   "mimetype": "text/x-python",
   "name": "python",
   "nbconvert_exporter": "python",
   "pygments_lexer": "ipython3",
   "version": "3.9.6"
  },
  "orig_nbformat": 4,
  "vscode": {
   "interpreter": {
    "hash": "1e02ec52e8f7f81913513f5edcaf2c1a5e46d1232f673b5f442050451668524e"
   }
  }
 },
 "nbformat": 4,
 "nbformat_minor": 2
}
