{
 "cells": [
  {
   "cell_type": "markdown",
   "metadata": {},
   "source": [
    "## Sandbox for marching squares"
   ]
  },
  {
   "cell_type": "code",
   "execution_count": 1,
   "metadata": {},
   "outputs": [],
   "source": [
    "import numpy as np\n",
    "import matplotlib.pyplot as plt\n",
    "from PIL import Image, ImageDraw\n",
    "from marching_squares import Grid, UnitCell, Lattice\n",
    "from tables import STATES"
   ]
  },
  {
   "cell_type": "code",
   "execution_count": 2,
   "metadata": {},
   "outputs": [],
   "source": [
    "def center_ellipse(x,y,r,c):\n",
    "\n",
    "    draw.ellipse([x - r, y - r, x + r, y + r],fill=c)\n",
    "\n",
    "def center_rectangle(x,y,l,w,c):\n",
    "    l = l/2\n",
    "    w = w/2\n",
    "    draw.rectangle([x - w, y - l, x + w, y + l],fill=c)"
   ]
  },
  {
   "cell_type": "markdown",
   "metadata": {},
   "source": [
    "Marching squares"
   ]
  },
  {
   "cell_type": "code",
   "execution_count": 16,
   "metadata": {},
   "outputs": [],
   "source": [
    "def get_state(a,b,c,d):\n",
    "    return a * 8 + b * 4 + c * 2 + d * 1\n",
    "\n",
    "def field_1(x, y, radius):\n",
    "    # distance from origin\n",
    "    d = np.sqrt(x ** 2 + y ** 2)\n",
    "    if d < radius:\n",
    "        return 1\n",
    "    else:\n",
    "        return 0\n",
    "def field_2(x, y, radius):\n",
    "    # distance from center point\n",
    "    d = np.sqrt((x - 1080 / 2) ** 2 + (y - 1080 / 2) ** 2)\n",
    "    if d < radius:\n",
    "        return 1\n",
    "    else:\n",
    "        return 0"
   ]
  },
  {
   "cell_type": "code",
   "execution_count": 24,
   "metadata": {},
   "outputs": [],
   "source": [
    "image_resolution = 1080\n",
    "\n",
    "img = Image.new('RGB', (image_resolution, image_resolution))\n",
    "draw = ImageDraw.Draw(img)\n",
    "\n",
    "grid_divisions = 20\n",
    "grid_scale = image_resolution / (grid_divisions - 1)\n",
    "\n",
    "\n",
    "grid = Grid(grid_scale, grid_divisions, grid_divisions)\n",
    "\n",
    "for point in grid.points:\n",
    "    v = field_2(point[0], point[1], 800)\n",
    "    if v == 0:\n",
    "        color = \"white\"\n",
    "    else:\n",
    "        color = \"red\"\n",
    "\n",
    "    scale = grid.scale\n",
    "    x = point[0]\n",
    "    y = point[1]\n",
    "\n",
    "    ## values at points\n",
    "    v0 = field_2(x,y, radius)\n",
    "    v1 = field_2(x + scale, y, radius)\n",
    "    v2 = field_2(x + scale, y + scale, radius)\n",
    "    v3 = field_2(x, y + scale, radius)\n",
    "\n",
    "    ## edge point locations\n",
    "    a = [x + scale / 2, y]\n",
    "    b = [x + scale, y + scale / 2]\n",
    "    c = [x + scale / 2, y + scale]\n",
    "    d = [x, y + scale / 2]\n",
    "\n",
    "    edge_points = [a,b,c,d]\n",
    "\n",
    "    radius = 400\n",
    "    state = get_state(v0, v1, v2, v3)\n",
    "\n",
    "    edges = STATES[state]\n",
    "\n",
    "    for line in edges:\n",
    "        p1 = edge_points[line[0]]\n",
    "        p2 = edge_points[line[1]]\n",
    "        draw.line([p1[0], p1[1], p2[0], p2[1]], fill=\"white\",width=10)\n",
    "\n",
    "    center_ellipse(point[0], point[1], 8, color)\n",
    "\n",
    "\n",
    "img.save('pixels.png')"
   ]
  },
  {
   "cell_type": "markdown",
   "metadata": {},
   "source": [
    "Lattices"
   ]
  },
  {
   "cell_type": "code",
   "execution_count": 5,
   "metadata": {},
   "outputs": [],
   "source": [
    "# image_resolution = 1080\n",
    "\n",
    "# img = Image.new('RGB', (image_resolution, image_resolution))\n",
    "# draw = ImageDraw.Draw(img)\n",
    "\n",
    "# def draw_cell(unit_cell, coords):\n",
    "#     for beam in unit_cell.beams:\n",
    "#         x1 = coords[beam[0]][0]\n",
    "#         y1 = coords[beam[0]][1]\n",
    "#         x2 = coords[beam[1]][0]\n",
    "#         y2 = coords[beam[1]][1]\n",
    "#         draw.line([x1, y1, x2, y2], fill=\"white\",width=10)\n",
    "\n",
    "# unit_cell = UnitCell(\"SC\")\n",
    "# scale = 100\n",
    "# unit_cell.x_scale = scale\n",
    "# unit_cell.y_scale = scale\n",
    "# lattice = Lattice(unit_cell, 5, 5)\n",
    "# i = 0\n",
    "# coords = lattice.return_cell_coords(0,0)\n",
    "# for coords in lattice.return_all_cell_coords():\n",
    "#     draw_cell(unit_cell, coords)\n",
    "# # for coords in lattic coords)\n",
    "# img.save('pixels.png')"
   ]
  }
 ],
 "metadata": {
  "kernelspec": {
   "display_name": "Python 3.9.6 64-bit ('python-project')",
   "language": "python",
   "name": "python3"
  },
  "language_info": {
   "codemirror_mode": {
    "name": "ipython",
    "version": 3
   },
   "file_extension": ".py",
   "mimetype": "text/x-python",
   "name": "python",
   "nbconvert_exporter": "python",
   "pygments_lexer": "ipython3",
   "version": "3.9.6"
  },
  "orig_nbformat": 4,
  "vscode": {
   "interpreter": {
    "hash": "1e02ec52e8f7f81913513f5edcaf2c1a5e46d1232f673b5f442050451668524e"
   }
  }
 },
 "nbformat": 4,
 "nbformat_minor": 2
}
